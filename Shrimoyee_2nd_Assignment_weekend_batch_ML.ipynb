{
 "cells": [
  {
   "cell_type": "markdown",
   "metadata": {},
   "source": [
    "# TASK 1"
   ]
  },
  {
   "cell_type": "markdown",
   "metadata": {},
   "source": [
    "1.1\n",
    "Write a Python Program to implement your own myreduce() function which works exactly like\n",
    "Python's built-in function reduce()"
   ]
  },
  {
   "cell_type": "code",
   "execution_count": 12,
   "metadata": {},
   "outputs": [],
   "source": [
    "def greater(a,b): \n",
    "    if(a>b): \n",
    "        return a \n",
    "    else: \n",
    "        return b"
   ]
  },
  {
   "cell_type": "code",
   "execution_count": 13,
   "metadata": {},
   "outputs": [],
   "source": [
    "def multiplication(a,b): return a*b"
   ]
  },
  {
   "cell_type": "code",
   "execution_count": 14,
   "metadata": {},
   "outputs": [],
   "source": [
    "def sumation(a,b): return a+b"
   ]
  },
  {
   "cell_type": "code",
   "execution_count": 15,
   "metadata": {},
   "outputs": [],
   "source": [
    "def myreduce(func,l):\n",
    "    counter=0\n",
    "    s= int(l[counter])\n",
    "    counter=1\n",
    "    while(counter<len(l)):\n",
    "        n=int(l[counter])\n",
    "        s = func(s,n)\n",
    "        counter+=1\n",
    "    print(s)"
   ]
  },
  {
   "cell_type": "code",
   "execution_count": 17,
   "metadata": {},
   "outputs": [
    {
     "name": "stdout",
     "output_type": "stream",
     "text": [
      "Enter the list of numbers separated by comma: 5,4,89,12,22,76,87,54\n",
      "167783996160\n"
     ]
    }
   ],
   "source": [
    "c=(input(\"Enter the list of numbers separated by comma: \"))\n",
    "myreduce(multiplication,c.split(\",\"))"
   ]
  },
  {
   "cell_type": "markdown",
   "metadata": {},
   "source": [
    "1.2 Write a Python program to implement your own myfilter() function which works exactly like\n",
    "Python's built-in function filter()\n"
   ]
  },
  {
   "cell_type": "code",
   "execution_count": 24,
   "metadata": {},
   "outputs": [],
   "source": [
    "def myfilter(func,l):\n",
    "    filtered_list = []\n",
    "    for s in l:\n",
    "        if(func(s)):\n",
    "            filtered_list.append(s)\n",
    "    return filtered_list"
   ]
  },
  {
   "cell_type": "code",
   "execution_count": 25,
   "metadata": {},
   "outputs": [],
   "source": [
    "def check_vowels(c):\n",
    "    vowels_List = [\"a\",\"e\",\"i\",\"o\",\"u\"]\n",
    "    if (c.lower() in vowels_List):\n",
    "        return True\n",
    "    else:\n",
    "        return False"
   ]
  },
  {
   "cell_type": "code",
   "execution_count": 26,
   "metadata": {},
   "outputs": [
    {
     "name": "stdout",
     "output_type": "stream",
     "text": [
      "Enter the list of characters separated by comma :A,o,N,J,T,E,u,I\n"
     ]
    },
    {
     "data": {
      "text/plain": [
       "['A', 'o', 'E', 'u', 'I']"
      ]
     },
     "execution_count": 26,
     "metadata": {},
     "output_type": "execute_result"
    }
   ],
   "source": [
    "t=input(\"Enter the list of characters separated by comma :\")\n",
    "myfilter(check_vowels,t.split(\",\"))"
   ]
  },
  {
   "cell_type": "code",
   "execution_count": 31,
   "metadata": {},
   "outputs": [],
   "source": [
    "def check_even(c):\n",
    "    if(int(c)%2==0):\n",
    "        return True\n",
    "    else:\n",
    "        return False"
   ]
  },
  {
   "cell_type": "code",
   "execution_count": 32,
   "metadata": {},
   "outputs": [
    {
     "name": "stdout",
     "output_type": "stream",
     "text": [
      "Enter the list of numbers separated by comma :5,56,87,54,75,24,45,88,92\n"
     ]
    },
    {
     "data": {
      "text/plain": [
       "['56', '54', '24', '88', '92']"
      ]
     },
     "execution_count": 32,
     "metadata": {},
     "output_type": "execute_result"
    }
   ],
   "source": [
    "u=input(\"Enter the list of numbers separated by comma :\")\n",
    "myfilter(check_even,u.split(\",\"))"
   ]
  },
  {
   "cell_type": "markdown",
   "metadata": {},
   "source": [
    "2.\n",
    "Implement List comprehensions to produce the following lists.\n",
    "Write List comprehensions to produce the following Lists\n",
    "\n",
    "['A', 'C', 'A', 'D', 'G', 'I', ’L’, ‘ D’]\n",
    "\n",
    "['x', 'xx', 'xxx', 'xxxx', 'y', 'yy', 'yyy', 'yyyy', 'z', 'zz', 'zzz', 'zzzz']\n",
    "\n",
    "['x', 'y', 'z', 'xx', 'yy', 'zz', 'xxx', 'yyy', 'zzz', 'xxxx', 'yyyy', 'zzzz']\n",
    "\n",
    "[[2], [3], [4], [3], [4], [5], [4], [5], [6]]\n",
    "\n",
    "[[2, 3, 4, 5], [3, 4, 5, 6], [4, 5, 6, 7], [5, 6, 7, 8]]\n",
    "\n",
    "[(1, 1), (2, 1), (3, 1), (1, 2), (2, 2), (3, 2), (1, 3), (2, 3), (3, 3)]\n"
   ]
  },
  {
   "cell_type": "code",
   "execution_count": 15,
   "metadata": {},
   "outputs": [
    {
     "name": "stdout",
     "output_type": "stream",
     "text": [
      "['A', 'C', 'A', 'D', 'G', 'I', 'L', 'D']\n"
     ]
    }
   ],
   "source": [
    "word = \"ACADGILD\"\n",
    "alphabet_list = [ alphabet for alphabet in word ]\n",
    "print (alphabet_list)"
   ]
  },
  {
   "cell_type": "code",
   "execution_count": 23,
   "metadata": {},
   "outputs": [
    {
     "name": "stdout",
     "output_type": "stream",
     "text": [
      "['x', 'xx', 'xxx', 'xxxx', 'y', 'yy', 'yyy', 'yyyy', 'z', 'zz', 'zzz', 'zzzz']\n"
     ]
    }
   ],
   "source": [
    "input_list = ['x','y','z']\n",
    "final_result = [ element*num for element in input_list for num in range(1,5)  ]\n",
    "print(final_result) "
   ]
  },
  {
   "cell_type": "code",
   "execution_count": 24,
   "metadata": {},
   "outputs": [
    {
     "name": "stdout",
     "output_type": "stream",
     "text": [
      "['x', 'y', 'z', 'xx', 'yy', 'zz', 'xxx', 'yyy', 'zzz', 'xxxx', 'yyyy', 'zzzz']\n"
     ]
    }
   ],
   "source": [
    "input_list = ['x','y','z']\n",
    "final_result = [ element*num for num in range(1,5) for element in input_list  ]\n",
    "print(final_result)"
   ]
  },
  {
   "cell_type": "code",
   "execution_count": 26,
   "metadata": {},
   "outputs": [
    {
     "name": "stdout",
     "output_type": "stream",
     "text": [
      "[[2], [3], [4], [3], [4], [5], [4], [5], [6]]\n"
     ]
    }
   ],
   "source": [
    "input_list = [2,3,4]\n",
    "final_result = [ [element+num] for element in input_list for num in range(0,3)]\n",
    "print(final_result)"
   ]
  },
  {
   "cell_type": "code",
   "execution_count": 25,
   "metadata": {},
   "outputs": [
    {
     "name": "stdout",
     "output_type": "stream",
     "text": [
      "[[2, 3, 4, 5], [3, 4, 5, 6], [4, 5, 6, 7], [5, 6, 7, 8]]\n"
     ]
    }
   ],
   "source": [
    "input_list = [2,3,4,5]\n",
    "final_result = [ [element+num for element in input_list] for num in range(0,4)  ]\n",
    "print(final_result)"
   ]
  },
  {
   "cell_type": "code",
   "execution_count": 27,
   "metadata": {},
   "outputs": [
    {
     "name": "stdout",
     "output_type": "stream",
     "text": [
      "[(1, 1), (2, 1), (3, 1), (1, 2), (2, 2), (3, 2), (1, 3), (2, 3), (3, 3)]\n"
     ]
    }
   ],
   "source": [
    "input_list=[1,2,3]\n",
    "final_result = [ (b,a) for a in input_list for b in input_list]\n",
    "print(final_result)"
   ]
  },
  {
   "cell_type": "markdown",
   "metadata": {},
   "source": [
    "3. Implement a function longestWord() that takes a list of words and returns the longest one.\n"
   ]
  },
  {
   "cell_type": "code",
   "execution_count": 33,
   "metadata": {},
   "outputs": [],
   "source": [
    "def longest_word(l):\n",
    "    max=0\n",
    "    longest_list = []\n",
    "    for word in l:\n",
    "        if(max<len(word)):\n",
    "            max = len(word)\n",
    "    longest_list = [word for word in l if (len(word)==max)]\n",
    "    return longest_list"
   ]
  },
  {
   "cell_type": "code",
   "execution_count": 34,
   "metadata": {},
   "outputs": [
    {
     "name": "stdout",
     "output_type": "stream",
     "text": [
      "Enter a list of words separated by comma: Sun,Moon,River,Seven,Three\n"
     ]
    },
    {
     "data": {
      "text/plain": [
       "['River', 'Seven', 'Three']"
      ]
     },
     "execution_count": 34,
     "metadata": {},
     "output_type": "execute_result"
    }
   ],
   "source": [
    "s=input(\"Enter a list of words separated by comma: \")\n",
    "longest_word(s.split(\",\"))"
   ]
  },
  {
   "cell_type": "markdown",
   "metadata": {},
   "source": [
    "# Task 2"
   ]
  },
  {
   "cell_type": "markdown",
   "metadata": {},
   "source": [
    "1.1 Write a Python Program(with class concepts) to find the area of the triangle using the below formula.\n",
    "\n",
    "area = (s*(s-a)*(s-b)*(s-c)) ** 0.5\n",
    "\n",
    "Function to take the length of the sides of triangle from user should be defined in the parent class and function to calculate the area should be defined in subclass.\n"
   ]
  },
  {
   "cell_type": "code",
   "execution_count": 1,
   "metadata": {},
   "outputs": [],
   "source": [
    "class triangle_class:\n",
    "    # Initializer / Instance Attributes\n",
    "    def __init__(self, l):\n",
    "        self.x = int(l[0])\n",
    "        self.y = int(l[1])\n",
    "        self.z = int(l[2])\n",
    "    def calculate_area(self):\n",
    "        s=(self.x+self.y+self.z)/2\n",
    "        self.area = (s*(s-self.x)*(s-self.y)*(s-self.z))**0.5"
   ]
  },
  {
   "cell_type": "code",
   "execution_count": 2,
   "metadata": {},
   "outputs": [],
   "source": [
    "def take_side_length():\n",
    "    sides=input(\"Enter the sides of the triangle seperated by ',' :\")\n",
    "    return sides.split(',')"
   ]
  },
  {
   "cell_type": "code",
   "execution_count": 3,
   "metadata": {},
   "outputs": [
    {
     "name": "stdout",
     "output_type": "stream",
     "text": [
      "Enter the sides of the triangle seperated by ',' :54,67,50\n"
     ]
    }
   ],
   "source": [
    "newobj = triangle_class(take_side_length())"
   ]
  },
  {
   "cell_type": "code",
   "execution_count": 4,
   "metadata": {},
   "outputs": [],
   "source": [
    "newobj.calculate_area()"
   ]
  },
  {
   "cell_type": "code",
   "execution_count": 5,
   "metadata": {},
   "outputs": [
    {
     "name": "stdout",
     "output_type": "stream",
     "text": [
      "1329.9593743795335 units\n"
     ]
    }
   ],
   "source": [
    "print(str(newobj.area)+\" units\")"
   ]
  },
  {
   "cell_type": "markdown",
   "metadata": {},
   "source": [
    "1.2 Write a function filter_long_words() that takes a list of words and an integer n and returns the list\n",
    "of words that are longer than n.\n"
   ]
  },
  {
   "cell_type": "code",
   "execution_count": 8,
   "metadata": {},
   "outputs": [],
   "source": [
    "def filter_long_words(l,n):\n",
    "    filtered_list =[]\n",
    "    for s in l:\n",
    "        if len(s)>n:\n",
    "            filtered_list.append(s)\n",
    "    return filtered_list"
   ]
  },
  {
   "cell_type": "code",
   "execution_count": 9,
   "metadata": {},
   "outputs": [
    {
     "name": "stdout",
     "output_type": "stream",
     "text": [
      "Enter a list of words separated by comma:  Wish,You,A,Very,Happy,Christmas,and,Happy,New,Year,2020\n",
      "Enter the integer value :3\n"
     ]
    },
    {
     "data": {
      "text/plain": [
       "[' Wish', 'Very', 'Happy', 'Christmas', 'Happy', 'Year', '2020']"
      ]
     },
     "execution_count": 9,
     "metadata": {},
     "output_type": "execute_result"
    }
   ],
   "source": [
    "a=input(\"Enter a list of words separated by comma: \")\n",
    "b=int(input(\"Enter the integer value :\"))\n",
    "filter_long_words(a.split(\",\"),b)"
   ]
  },
  {
   "cell_type": "markdown",
   "metadata": {},
   "source": [
    "2.1 Write a Python program using function concept that maps list of words into a list of integers representing the lengths of the corresponding words.\n",
    "\n",
    "Hint: If a list [ ab,cde,erty] is passed on to the python function output should come as [2,3,4]\n",
    "\n",
    "Here 2,3 and 4 are the lengths of the words in the list."
   ]
  },
  {
   "cell_type": "code",
   "execution_count": 10,
   "metadata": {},
   "outputs": [],
   "source": [
    "def words_len_map(l):\n",
    "    length_list = []\n",
    "    for word in l:\n",
    "        length_list.append(len(word))\n",
    "    return length_list"
   ]
  },
  {
   "cell_type": "code",
   "execution_count": 11,
   "metadata": {},
   "outputs": [
    {
     "name": "stdout",
     "output_type": "stream",
     "text": [
      "Enter a list of words separated by comma: River,Home,Ineuron,Hello,Everyone\n"
     ]
    },
    {
     "data": {
      "text/plain": [
       "[5, 4, 7, 5, 8]"
      ]
     },
     "execution_count": 11,
     "metadata": {},
     "output_type": "execute_result"
    }
   ],
   "source": [
    "s=input(\"Enter a list of words separated by comma: \")\n",
    "words_len_map(s.split(\",\"))"
   ]
  },
  {
   "cell_type": "markdown",
   "metadata": {},
   "source": [
    "2.2 Write a Python function which takes a character (i.e. a string of length 1) and returns True if it is a vowel, False otherwise.\n"
   ]
  },
  {
   "cell_type": "code",
   "execution_count": 33,
   "metadata": {},
   "outputs": [],
   "source": [
    "def check_vowels(c):\n",
    "    vowels_List = [\"a\",\"e\",\"i\",\"o\",\"u\"]\n",
    "    if (c.lower() in vowels_List):\n",
    "        print(\"True\")\n",
    "    else:\n",
    "        print(\"False\")"
   ]
  },
  {
   "cell_type": "code",
   "execution_count": 34,
   "metadata": {},
   "outputs": [
    {
     "name": "stdout",
     "output_type": "stream",
     "text": [
      "Type 'q' to exit the program: \n",
      "Enter a character: a\n",
      "True\n",
      "Enter a character: s\n",
      "False\n",
      "Enter a character: y\n",
      "False\n",
      "Enter a character: e\n",
      "True\n",
      "Enter a character: u\n",
      "True\n",
      "Enter a character: o\n",
      "True\n",
      "Enter a character: h\n",
      "False\n",
      "Enter a character: s\n",
      "False\n",
      "Enter a character: q\n",
      "False\n",
      "Exiting program......\n"
     ]
    }
   ],
   "source": [
    "print(\"Type 'q' to exit the program: \")\n",
    "while(True):\n",
    "    s=input(\"Enter a character: \")\n",
    "    if(s.lower()=='q'):\n",
    "        check_vowels(s)\n",
    "        print(\"Exiting program......\")\n",
    "        break\n",
    "    else:\n",
    "        check_vowels(s)"
   ]
  }
 ],
 "metadata": {
  "kernelspec": {
   "display_name": "Python 3",
   "language": "python",
   "name": "python3"
  },
  "language_info": {
   "codemirror_mode": {
    "name": "ipython",
    "version": 3
   },
   "file_extension": ".py",
   "mimetype": "text/x-python",
   "name": "python",
   "nbconvert_exporter": "python",
   "pygments_lexer": "ipython3",
   "version": "3.7.4"
  }
 },
 "nbformat": 4,
 "nbformat_minor": 2
}
